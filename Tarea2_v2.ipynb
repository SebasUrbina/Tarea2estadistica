{
 "cells": [
  {
   "cell_type": "markdown",
   "metadata": {},
   "source": [
    "# Tarea 2 v2"
   ]
  },
  {
   "cell_type": "code",
   "execution_count": 56,
   "metadata": {},
   "outputs": [],
   "source": [
    "library(dplyr)\n",
    "library(ggplot2)\n",
    "library(tidyr)\n",
    "library(gridExtra)"
   ]
  },
  {
   "cell_type": "markdown",
   "metadata": {},
   "source": [
    "# PARTE 1:  EXPLORACIÓN DE DATOS Y VARIABLES"
   ]
  },
  {
   "cell_type": "markdown",
   "metadata": {},
   "source": [
    "1. Investigue acerca de como se fija una tasa de interes para un credito:  regulaciones y factores que influyen en fijar la tasa ofrecida a cada persona.\n"
   ]
  },
  {
   "cell_type": "markdown",
   "metadata": {},
   "source": [
    "sadasd"
   ]
  },
  {
   "cell_type": "markdown",
   "metadata": {},
   "source": [
    "sdsadasda"
   ]
  },
  {
   "cell_type": "markdown",
   "metadata": {},
   "source": []
  },
  {
   "cell_type": "markdown",
   "metadata": {},
   "source": []
  },
  {
   "cell_type": "markdown",
   "metadata": {},
   "source": [
    "Una puntuación FICO es un tipo de puntuación de crédito creada por Fair Isaac Corporation. Los prestamistas utilizan las calificaciones FICO de los prestatarios junto con otros detalles sobre los informes de crédito de los prestatarios para evaluar el riesgo de crédito y determinar si extender el crédito. Las puntuaciones de FICO tienen en cuenta varios factores en cinco áreas para determinar la solvencia: historial de pagos, nivel actual de endeudamiento, tipos de crédito utilizados, duración del historial de crédito y nuevas cuentas de crédito."
   ]
  },
  {
   "cell_type": "markdown",
   "metadata": {},
   "source": [
    "https://www.investopedia.com/terms/f/ficoscore.asp\n",
    "\n",
    "<img src='https://www.investopedia.com/thmb/SBOkuFtkI3b5kfXCBoEBOwO-szk=/692x0/filters:no_upscale():max_bytes(150000):strip_icc():format(webp)/FICO-Scores-0474cc0ca87b4b58b9391f065f623c0f.jpg'>"
   ]
  },
  {
   "cell_type": "markdown",
   "metadata": {},
   "source": [
    "2. Descargue los datos y analice las variables con las que cuenta. Evalue la necesidad denormalizar/estandarizar los datos o transformar las variables (por ejemplo a dummy oaplicar logaritmo). Justifique."
   ]
  },
  {
   "cell_type": "markdown",
   "metadata": {},
   "source": [
    "La descripción de las variables es la siguiente:\n",
    "\n",
    "*Cada ID representa un cliente\n",
    "\n",
    "- Amount.Requested: Prestamo Solicitado por el cliente\n",
    "\n",
    "- Amount.Funded.By.Investors: Monto del préstamo sancionado por el banco para los clientes\n",
    "\n",
    "- Interest.Rates: La tasa de interés fijada por el banco para cada cliente.\n",
    "\n",
    "- Loan.Length: Periodo de tenencia del préstamo\n",
    "\n",
    "- Loan.Purpose: Propósito del Prestamo\n",
    "\n",
    "- Debt.To.Income.Ratio: Proporción de las deudas totales del cliente en función de sus ingresos totales \n",
    "\n",
    "- State: Estado en el que reside el cliente\n",
    "\n",
    "- Home.Ownershi: Estado de la vivienda propiedad del cliente.\n",
    "\n",
    "- Monthly.Income: Ingresos mensuales del cliente\n",
    "\n",
    "- FICO range: Rango de puntaje de crédito del cliente\n",
    "\n",
    "-  Open.Credit.Lines: Cantidad de deudas paralelas que tienen los clientes\n",
    "\n",
    "- Revolving.Credit.Balance: Saldo total de la deuda considerando todas las líneas de crédito abiertas\n",
    "\n",
    "- Inquiries.in.last.6.months: Número de consultas de crédito en los últimos 6 meses(veces que se consultó por un credito)\n",
    "\n",
    "- Employment.Length: Experiencia laboral de los clientes"
   ]
  },
  {
   "cell_type": "markdown",
   "metadata": {},
   "source": [
    "Comenzamos leyendo los datos"
   ]
  },
  {
   "cell_type": "code",
   "execution_count": null,
   "metadata": {},
   "outputs": [],
   "source": [
    "df <- read.csv('loan_data_train.csv',sep=',',check.names=FALSE)"
   ]
  },
  {
   "cell_type": "markdown",
   "metadata": {},
   "source": [
    "Revisamos cuántos valores nulos tenemos"
   ]
  },
  {
   "cell_type": "code",
   "execution_count": null,
   "metadata": {},
   "outputs": [],
   "source": [
    "sapply(df,function(x) x=sum(is.na(x))) "
   ]
  },
  {
   "cell_type": "markdown",
   "metadata": {},
   "source": [
    "Como tenemos valores nulos, procedemos a omitirlos"
   ]
  },
  {
   "cell_type": "code",
   "execution_count": null,
   "metadata": {},
   "outputs": [],
   "source": [
    "df <- na.omit(df)      "
   ]
  },
  {
   "cell_type": "markdown",
   "metadata": {},
   "source": [
    "Observamos la estadística descriptiva de los datos"
   ]
  },
  {
   "cell_type": "code",
   "execution_count": null,
   "metadata": {},
   "outputs": [],
   "source": [
    "str(df)"
   ]
  },
  {
   "cell_type": "markdown",
   "metadata": {},
   "source": [
    "A primera vista notamos que hay muchas variables como factor o categorías, de las cuales algunas no hacen mucho sentido tener esta forma, como \"Amount.Requested\", \"Amount.Funded.By.Investor\", \"Interest.Rate\", \"Debt.To.Income.Ratio\", \"Open.CREDIT.Lines\" y \"Revolving.CREDIT.Balance\". Por lo tanto las vamos a convertir a variables numericas y a enteras dependiendo el caso. De esta forma podremos hacer un mejor análisis. Asimismo el resto de variables se dejarán como categoricas, ya que no tiene mucho sentido cambiar su tipo.\n",
    "\n",
    "Asimismo, con respecto a la variable dependiente, se utilizará sin aplicar logaritmo, principalmente porque tenemos un conjunto de valores acotados."
   ]
  },
  {
   "cell_type": "code",
   "execution_count": null,
   "metadata": {},
   "outputs": [],
   "source": [
    "df$Interest.Rate <- as.character(df$Interest.Rate)\n",
    "df$Interest.Rate <- substr(df$Interest.Rate,1,nchar(df$Interest.Rate)-1)\n",
    "df$Interest.Rate <- as.numeric(df$Interest.Rate)\n",
    "\n",
    "df$Debt.To.Income.Ratio <- as.character(df$Debt.To.Income.Ratio)\n",
    "df$Debt.To.Income.Ratio <- substr(df$Debt.To.Income.Ratio,1,nchar(df$Debt.To.Income.Ratio)-1)\n",
    "df$Debt.To.Income.Ratio <- as.numeric(df$Debt.To.Income.Ratio)\n",
    "\n",
    "df$Revolving.CREDIT.Balance <- as.numeric(as.character(df$Revolving.CREDIT.Balance))\n",
    "df$Amount.Requested <- as.numeric(as.character(df$Amount.Requested))\n",
    "\n",
    "df$Open.CREDIT.Lines <- as.character(df$Open.CREDIT.Lines)\n",
    "df$Open.CREDIT.Lines <- as.integer(df$Open.CREDIT.Lines)\n",
    "\n",
    "df$Amount.Funded.By.Investors <- as.character(df$Amount.Funded.By.Investors)\n",
    "df$Amount.Funded.By.Investors <- as.numeric(df$Amount.Funded.By.Investors)\n",
    "\n",
    "#Quitamos aquellos valores que contienen un punto porque ensucian los datos\n",
    "df<-df[df$Loan.Length!='.',]"
   ]
  },
  {
   "cell_type": "code",
   "execution_count": null,
   "metadata": {},
   "outputs": [],
   "source": [
    "#Luego de aplicar los cambios a las variables, notamos que algunos datos pasaron a ser nulos, los que omtiriemos nuevamente\n",
    "df<- na.omit(df)"
   ]
  },
  {
   "cell_type": "code",
   "execution_count": null,
   "metadata": {},
   "outputs": [],
   "source": [
    "head(df,n=3)"
   ]
  },
  {
   "cell_type": "markdown",
   "metadata": {},
   "source": [
    "# 3. Realice un grafico de dispersion para algunas variables que considere relevantes en este problema. Realice graficos para ver la relacion entre las variables independientes con la dependiente."
   ]
  },
  {
   "cell_type": "markdown",
   "metadata": {},
   "source": [
    "Considerando a grandes rasgos la tasa de interés como el riesgo que le produce al banco prestar dinero, se dará una breve visión sobre las variables que tenemos y se considierarán aquellas que hacen sentido en relación con la tasa de interés.\n",
    "\n",
    "Variables de interés:\n",
    "\n",
    "- Employment.Length: Personas con mayor experiencia laboral puede demostrar cierto control y consistencia económica, por lo que parece ser interesante buscar alguna relación con la tasa de interés aplicada a los créditos.\n",
    "- Monthly.Income: La tendencia es que gente con mayores ingresos es menos riesgosa por lo tanto puede incurrir en tasas de interés más altas \n",
    "- Debt.To.Income.Ratio: La proporción de las deudas también parece ser una variable interesante de considerar, porque aquellas personas que tienen un radio de deuda bastante alto puede no ser de confianza y generar desconfianza al banco.\n",
    "- Home.Ownership: El estado de la vivienda del cliente puede reflejar por un lado la capacidad de solvencia del cliente y aumentar el riesgo y por ende la tasa de interés, por lo que parece una interesante variable a considerar.\n",
    "- Amount.Requested:\n",
    "- Loan.Length: Mientras mas larga es la deuda, mayor es el riesgo por lo que podría existir al prestar dinero por un plazo más extendido, por lo que se puede considerar como variable de interés.\n",
    "- Open.CREDIT.Lines: La cantidad de deudas pararelas pueden ser un indicador de sustento económico de la persona, por lo que puede existir cierto efecto sobre la tasa de interés.\n",
    "- Inquiries.in.the.Last.6.Months: Desde la perspectiva del banco, aquellas personas que han consultado con mayor frecuencia en los últimos meses algún tipo de crédito podrían estar en una situación desfavorable y por tanto existiría un riesgo mayor en prestar dinero a este tipo de personas.\n",
    "\n"
   ]
  },
  {
   "cell_type": "markdown",
   "metadata": {},
   "source": [
    "### Graficaremos nuestras variables de interés con respecto a la tasa de interés"
   ]
  },
  {
   "cell_type": "code",
   "execution_count": null,
   "metadata": {},
   "outputs": [],
   "source": [
    "ggplot(df, aes(y= Employment.Length , x = Interest.Rate )) + geom_point() + ggtitle('Interest Rate vs Experiencia laboral')"
   ]
  },
  {
   "cell_type": "markdown",
   "metadata": {},
   "source": [
    "Es dificil encontrar cierta tendencia o efecto en este gráfico. Observemos mejor un boxplot."
   ]
  },
  {
   "cell_type": "code",
   "execution_count": null,
   "metadata": {},
   "outputs": [],
   "source": [
    "ggplot(df, aes(y= Employment.Length , x = Interest.Rate )) + geom_boxplot() + ggtitle('Interest Rate vs Experiencia laboral')"
   ]
  },
  {
   "cell_type": "markdown",
   "metadata": {},
   "source": [
    "A grandes rasgos no se observa alguna relación entre la experiencia laboral y la tasa de interés."
   ]
  },
  {
   "cell_type": "markdown",
   "metadata": {},
   "source": [
    "Graficamos el logartirmo de los ingresos mensuales en función de la tasa de interés para obtener un gráfico mejor distribuido, ya que de otra forma queda toco acumulado a un lado."
   ]
  },
  {
   "cell_type": "code",
   "execution_count": null,
   "metadata": {},
   "outputs": [],
   "source": [
    "ggplot(df, aes(x=log(Monthly.Income),y=Interest.Rate))+geom_point() + ggtitle('log(Ingresos mensuales) vs Tasa de interés ')"
   ]
  },
  {
   "cell_type": "markdown",
   "metadata": {},
   "source": [
    "De igual forma se hace complejo encontrar alguna tendencia o efecto."
   ]
  },
  {
   "cell_type": "code",
   "execution_count": null,
   "metadata": {},
   "outputs": [],
   "source": [
    "ggplot(df,aes(x=Debt.To.Income.Ratio,y=Interest.Rate))+geom_point()+ggtitle('% deuda c/r ingresos  vs Tasa de interés')"
   ]
  },
  {
   "cell_type": "markdown",
   "metadata": {},
   "source": [
    "Tampoco se logra ver alguna tendencia"
   ]
  },
  {
   "cell_type": "code",
   "execution_count": null,
   "metadata": {},
   "outputs": [],
   "source": [
    "ggplot(df,aes(x=Home.Ownership,y=Interest.Rate))+geom_point()+ggtitle('Duración del prestamo vs Tasa de interés')"
   ]
  },
  {
   "cell_type": "markdown",
   "metadata": {},
   "source": [
    "Si bien existe bastante dispersión, se puede notar que aquellas personas que son propietarios de su casa tienden a alcanzar menores tasas de interés."
   ]
  },
  {
   "cell_type": "code",
   "execution_count": null,
   "metadata": {},
   "outputs": [],
   "source": []
  },
  {
   "cell_type": "code",
   "execution_count": null,
   "metadata": {},
   "outputs": [],
   "source": [
    "ggplot(df,aes(x=Loan.Length,y=Interest.Rate))+geom_point()+ggtitle('Duración del prestamo vs Tasa de interés')"
   ]
  },
  {
   "cell_type": "markdown",
   "metadata": {},
   "source": [
    "No se observa muy bien o es complejo analizar alguna tendencia, haremos un boxplot para visualizar mejor."
   ]
  },
  {
   "cell_type": "code",
   "execution_count": null,
   "metadata": {},
   "outputs": [],
   "source": [
    "ggplot(df,aes(x=Loan.Length,y=Interest.Rate))+geom_boxplot()"
   ]
  },
  {
   "cell_type": "markdown",
   "metadata": {},
   "source": [
    "Se puede observar que los créditos a más meses de plazo tienden a tener más tasa de interés."
   ]
  },
  {
   "cell_type": "code",
   "execution_count": null,
   "metadata": {},
   "outputs": [],
   "source": [
    "ggplot(df,aes(x=Inquiries.in.the.Last.6.Months,y=Interest.Rate))+geom_point()+ggtitle('Consultas de crédito en los últimos 6 meses vs Tasa de Interés')"
   ]
  },
  {
   "cell_type": "code",
   "execution_count": null,
   "metadata": {},
   "outputs": [],
   "source": []
  },
  {
   "cell_type": "markdown",
   "metadata": {},
   "source": [
    "Si graficamos el monto solicitado del prestamos vs la tasa de interés, se observa bastante dispersión y a priori no existe tendencia."
   ]
  },
  {
   "cell_type": "code",
   "execution_count": null,
   "metadata": {},
   "outputs": [],
   "source": [
    "ggplot(df, aes(x= Amount.Requested , y = Interest.Rate )) + geom_point() + ggtitle('Amount Requested vs Interest Rate')\n"
   ]
  },
  {
   "cell_type": "code",
   "execution_count": null,
   "metadata": {},
   "outputs": [],
   "source": [
    "ggplot(df, aes(x = log(Monthly.Income), y = Interest.Rate, color = Loan.Length)) + geom_point()"
   ]
  },
  {
   "cell_type": "code",
   "execution_count": null,
   "metadata": {},
   "outputs": [],
   "source": []
  },
  {
   "cell_type": "markdown",
   "metadata": {},
   "source": [
    "4. Analice la relevancia que tiene cada variable con la variable dependiente y entre ellas."
   ]
  },
  {
   "cell_type": "code",
   "execution_count": null,
   "metadata": {},
   "outputs": [],
   "source": [
    "#Seleccionamos sólo las variables no categoricas.\n",
    "inCorr <- select(df, -c(ID,Loan.Length, Loan.Purpose, State, Home.Ownership, FICO.Range, Employment.Length))\n",
    "cormat <- round(cor(inCorr),2)"
   ]
  },
  {
   "cell_type": "code",
   "execution_count": null,
   "metadata": {},
   "outputs": [],
   "source": [
    "#http://www.sthda.com/english/wiki/ggplot2-quick-correlation-matrix-heatmap-r-software-and-data-visualization\n",
    "get_upper_tri <- function(cormat){\n",
    "cormat[lower.tri(cormat)]<- NA\n",
    "return(cormat)\n",
    "}"
   ]
  },
  {
   "cell_type": "code",
   "execution_count": null,
   "metadata": {},
   "outputs": [],
   "source": [
    "upper_tri <- get_upper_tri(cormat)"
   ]
  },
  {
   "cell_type": "code",
   "execution_count": null,
   "metadata": {},
   "outputs": [],
   "source": [
    "library(reshape2)\n",
    "melted_cormat <- melt(upper_tri, na.rm = TRUE)"
   ]
  },
  {
   "cell_type": "code",
   "execution_count": null,
   "metadata": {},
   "outputs": [],
   "source": [
    "ggplot(data = melted_cormat, aes(Var2, Var1, fill = value))+\n",
    "geom_tile(color = \"white\")+\n",
    "scale_fill_gradient2(low = \"blue\", high = \"red\", mid = \"white\", \n",
    "   midpoint = 0, limit = c(-1,1), space = \"Lab\", \n",
    "   name=\"Pearson\\nCorrelation\") +\n",
    "theme_minimal()+ \n",
    "theme(axis.text.x = element_text(angle = 45, vjust = 1, \n",
    "    size = 12, hjust = 1))+\n",
    "coord_fixed() +\n",
    "labs(title='Matriz de Correlación')"
   ]
  },
  {
   "cell_type": "code",
   "execution_count": null,
   "metadata": {},
   "outputs": [],
   "source": [
    "library(corrplot)\n",
    "corr_mat <- cor(select(df, -c(ID,Loan.Length, Loan.Purpose, State, Home.Ownership, FICO.Range, Employment.Length))\n",
    ")\n",
    "corrplot(corr_mat, method=\"color\", type=\"upper\")"
   ]
  },
  {
   "cell_type": "markdown",
   "metadata": {},
   "source": [
    "Lo primero que podemos concluir es que existe una correlación casi total con respecto a las variables \"Amount.Requested\" y \"Amount.Funded.By.Investor\" que tiene toda la lógica, pues obviamente el monto solicitado por el cliente está estrechamente relacionado con lo que realmente recibirá de parte del banco. \n",
    "\n"
   ]
  },
  {
   "cell_type": "code",
   "execution_count": null,
   "metadata": {},
   "outputs": [],
   "source": []
  },
  {
   "cell_type": "code",
   "execution_count": null,
   "metadata": {},
   "outputs": [],
   "source": []
  },
  {
   "cell_type": "code",
   "execution_count": null,
   "metadata": {},
   "outputs": [],
   "source": []
  },
  {
   "cell_type": "markdown",
   "metadata": {},
   "source": [
    "Plantee 3 modelos de regresion lineal para la variable dependiente de interes.  Recuerdeque  puede  utilizar  transformaciones  de  las  variables  (cuadraticas, logarıtmicas)  o  agregarinteracciones entre ellas.  Adem ́as puede eliminar observaciones que ensucien su analisis.L aeleccion de las variables utilizadas y su forma de ser incorporada al modelo debe sustentarseen los analisis realizados en la Parte 1 de esta Tarea.\n",
    "\n",
    "Luego,  analice los resultados obtenidos:  compareR2,  test de hipótesis correspondientesy  concluya  con  respecto  a  los  efectos  (significativos  o  no)  estimados.   Luego,  responda  lassiguientes dos preguntas:"
   ]
  },
  {
   "cell_type": "markdown",
   "metadata": {},
   "source": [
    "Interest Vars:\n",
    "- Amount.Requested\n",
    "- Loan.Length\n",
    "- Debt.To.Income.Ratio\n",
    "- Home.Ownership\n",
    "- Monthly.Income\n",
    "- Open.CREDIT.Lines\n",
    "- Inquiries.in.the.Last.6.Months\n",
    "- Employment.Length*"
   ]
  },
  {
   "cell_type": "code",
   "execution_count": null,
   "metadata": {},
   "outputs": [],
   "source": [
    "colnames(df)"
   ]
  },
  {
   "cell_type": "code",
   "execution_count": null,
   "metadata": {},
   "outputs": [],
   "source": [
    "lm1 <- lm(Interest.Rate ~ Revolving.CREDIT.Balance+Open.CREDIT.Lines, data = df)\n",
    "summary(lm1)"
   ]
  },
  {
   "cell_type": "code",
   "execution_count": null,
   "metadata": {},
   "outputs": [],
   "source": [
    "lm <- lm(Interest.Rate ~ Amount.Requested + Loan.Length + Debt.To.Income.Ratio + Home.Ownership + Monthly.Income + Open.CREDIT.Lines + Inquiries.in.the.Last.6.Months , data=df)\n",
    "summary(lm)"
   ]
  },
  {
   "cell_type": "markdown",
   "metadata": {},
   "source": [
    "1. ¿A que se debe los resultados que obtiene?"
   ]
  },
  {
   "cell_type": "code",
   "execution_count": null,
   "metadata": {},
   "outputs": [],
   "source": []
  },
  {
   "cell_type": "markdown",
   "metadata": {},
   "source": [
    "2.  ¿Identifica algun problema de endogeneidad en su analisis?  ¿Como podr ́ıa solucionarse?\n",
    "\n",
    "La distribuci ́on de puntaje en esta parte es de 1.5 puntos por cada modelo planteado y su analisis (0.5 ptos.  por el modelo y su justificacion, 1.0 pto por el an ́análisis de resultados)."
   ]
  },
  {
   "cell_type": "code",
   "execution_count": null,
   "metadata": {},
   "outputs": [],
   "source": []
  }
 ],
 "metadata": {
  "kernelspec": {
   "display_name": "R",
   "language": "R",
   "name": "ir"
  },
  "language_info": {
   "codemirror_mode": "r",
   "file_extension": ".r",
   "mimetype": "text/x-r-source",
   "name": "R",
   "pygments_lexer": "r",
   "version": "3.6.3"
  }
 },
 "nbformat": 4,
 "nbformat_minor": 4
}
